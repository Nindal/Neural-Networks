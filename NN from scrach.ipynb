{
 "cells": [
  {
   "cell_type": "code",
   "execution_count": 54,
   "metadata": {},
   "outputs": [],
   "source": [
    "import numpy as np\n",
    "import random"
   ]
  },
  {
   "cell_type": "code",
   "execution_count": 3,
   "metadata": {},
   "outputs": [
    {
     "name": "stdout",
     "output_type": "stream",
     "text": [
      "[[1 0 1 0]\n",
      " [1 0 1 1]\n",
      " [0 1 0 1]]\n"
     ]
    }
   ],
   "source": [
    "X=np.array([[1,0,1,0],[1,0,1,1],[0,1,0,1]])\n",
    "y=np.array([[1],[1],[0]])\n",
    "print(X)"
   ]
  },
  {
   "cell_type": "code",
   "execution_count": 76,
   "metadata": {},
   "outputs": [],
   "source": [
    "random.seed(1001)\n",
    "W_inhn=np.random.uniform(size=(4,3))\n",
    "W_hnout=np.random.uniform(size=(3,1))\n",
    "\n",
    "binhn=np.random.uniform(size=3)\n",
    "bhnout=np.random.uniform(size=1)\n",
    "\n"
   ]
  },
  {
   "cell_type": "code",
   "execution_count": 80,
   "metadata": {},
   "outputs": [
    {
     "ename": "IndentationError",
     "evalue": "unexpected indent (<ipython-input-80-86204f12ff48>, line 11)",
     "output_type": "error",
     "traceback": [
      "\u001b[0;36m  File \u001b[0;32m\"<ipython-input-80-86204f12ff48>\"\u001b[0;36m, line \u001b[0;32m11\u001b[0m\n\u001b[0;31m    inhn_1=np.dot(X,W_inhn)+binhn\u001b[0m\n\u001b[0m    ^\u001b[0m\n\u001b[0;31mIndentationError\u001b[0m\u001b[0;31m:\u001b[0m unexpected indent\n"
     ]
    }
   ],
   "source": [
    "def sigmoid(x):\n",
    "    return 1/(np.exp(-x)+1)\n",
    "def derivative(x):\n",
    "    return np.exp(-x)/(1+np.exp(-x))\n",
    "print(W_inhn)\n",
    "print(W_hnout)\n",
    "print(binhn)\n",
    "print(bhnout)\n",
    "\n",
    "#for i in range(500):\n",
    "    inhn_1=np.dot(X,W_inhn)+binhn\n",
    "    inhn_2=sigmoid(inhn_1)\n",
    "\n",
    "    hnout_1=np.dot(inhn_2,W_hnout)+bhnout\n",
    "    hnout_2=sigmoid(hnout_1)\n",
    "\n",
    "\n",
    "    E=y-hnout_2\n",
    "    E2=np.dot(E,W_hnout.T)\n",
    "\n",
    "    a=0.01\n",
    "    prod_1=E*derivative(hnout_2)\n",
    "    prod_2=np.dot(inhn_2.T,prod_1)\n",
    "    prod_3=E2*derivative(inhn_2)\n",
    "    prod_4=np.dot(X.T,prod_3)\n",
    "    \n",
    "   \n",
    "    \n",
    "    \n",
    "    \n",
    "\n",
    "   \n",
    "    W_hnout=W_hnout+a*prod_2\n",
    "    binhn=np.sum(binhn+a*prod_3,axis=0)\n",
    "    W_inhn=W_inhn+a*prod_4\n",
    "    bhnout=np.sum(bhnout+a*prod_1,axis=0)\n",
    "    \n",
    "    \n",
    "print(\"***********\")\n",
    "print(W_inhn)\n",
    "print(W_hnout)\n",
    "print(binhn)\n",
    "print(bhnout)"
   ]
  },
  {
   "cell_type": "code",
   "execution_count": null,
   "metadata": {},
   "outputs": [],
   "source": [
    "inhn_1=np.dot(X,W_inhn)+binhn\n",
    "inhn_2=sigmoid(inhn_1)\n",
    "\n",
    "hnout_1=np.dot(inhn_2,W_hnout)+bhnout\n",
    "    hnout_2=sigmoid(hnout_1)\n",
    "\n",
    "\n",
    "    E=y-hnout_2\n",
    "    E2=np.dot(E,W_hnout.T)\n",
    "\n",
    "    a=0.01\n",
    "    prod_1=E*derivative(hnout_2)\n",
    "    prod_2=np.dot(inhn_2.T,prod_1)\n",
    "    prod_3=E2*derivative(inhn_2)\n",
    "    prod_4=np.dot(X.T,prod_3)\n",
    "    \n",
    "   \n",
    "    "
   ]
  },
  {
   "cell_type": "code",
   "execution_count": 83,
   "metadata": {},
   "outputs": [],
   "source": [
    " E2=np.dot(W_hnout.T,E)"
   ]
  },
  {
   "cell_type": "code",
   "execution_count": 84,
   "metadata": {},
   "outputs": [
    {
     "data": {
      "text/plain": [
       "array([[1.72522369]])"
      ]
     },
     "execution_count": 84,
     "metadata": {},
     "output_type": "execute_result"
    }
   ],
   "source": [
    "E2"
   ]
  },
  {
   "cell_type": "code",
   "execution_count": null,
   "metadata": {},
   "outputs": [],
   "source": []
  }
 ],
 "metadata": {
  "kernelspec": {
   "display_name": "Python 3",
   "language": "python",
   "name": "python3"
  },
  "language_info": {
   "codemirror_mode": {
    "name": "ipython",
    "version": 3
   },
   "file_extension": ".py",
   "mimetype": "text/x-python",
   "name": "python",
   "nbconvert_exporter": "python",
   "pygments_lexer": "ipython3",
   "version": "3.6.4"
  }
 },
 "nbformat": 4,
 "nbformat_minor": 2
}
