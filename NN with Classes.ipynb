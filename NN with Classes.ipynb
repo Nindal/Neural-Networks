{
 "cells": [
  {
   "cell_type": "code",
   "execution_count": 1,
   "metadata": {},
   "outputs": [],
   "source": [
    "import numpy as np\n",
    "import scipy.special\n"
   ]
  },
  {
   "cell_type": "code",
   "execution_count": 4,
   "metadata": {},
   "outputs": [],
   "source": [
    "# neural network class definition\n",
    "class neuralNetwork:\n",
    "    \n",
    "    #intialize the neural network\n",
    "    def __init__(self,inputnodes,outputnodes,hiddennodes,learningrate):\n",
    "        self.inodes=inputnodes\n",
    "        self.onodes=outputnodes\n",
    "        self.hnodes=hiddennodes\n",
    "        self.lr=learningrate\n",
    "        self.wih=np.random.rand(self.inodes,self.hnnodes)\n",
    "        self.who=np.random.rand(self.hnodes,self.onodes)\n",
    "        # activation funtion is the sigmoid funtion\n",
    "        self.activation=lambda x:scipy.special.expit(x)\n",
    "    \n",
    "    #query the neural network\n",
    "    def query(self,input_list):\n",
    "        inputs=numpy.array(input_list)\n",
    "        hidden_inputs=np.dot(inputs,self.wih)\n",
    "        hidden_output=self.activation_funtion(hidden_inputs)\n",
    "        final_inputs=np.dot(hidden_output,self.who)\n",
    "        final_ouput=self.activation(final_inputs)\n",
    "        return final_ouputs\n",
    "    \n",
    "    #train the neural \n",
    "    def train(self,target_list):\n",
    "        target=np.array(target_list)\n",
    "        error=target-final\n",
    "        \n",
    "        who+=self.lr*np.dot((hidden_ouput).T,error*(1-final_outputs)*(final_outputs))\n",
    "        error_hidden=np.dot(erroe,who.T)\n",
    "        wih+=self.lr*np.dot((input).T,error_hidden*(hidden_output)*(1-hidden_output))\n",
    "        \n",
    "        \n",
    "    \n",
    "    "
   ]
  },
  {
   "cell_type": "code",
   "execution_count": 8,
   "metadata": {},
   "outputs": [],
   "source": [
    "# nyumber of input, hidden and output layer\n",
    "input_node=4\n",
    "hidden_node=3\n",
    "output_node=1\n",
    "learning_rate=0.01\n",
    "n=neuralNetwork(input_node,output_node,hidden_node,learning_rate)"
   ]
  },
  {
   "cell_type": "code",
   "execution_count": null,
   "metadata": {},
   "outputs": [],
   "source": []
  }
 ],
 "metadata": {
  "kernelspec": {
   "display_name": "Python 3",
   "language": "python",
   "name": "python3"
  },
  "language_info": {
   "codemirror_mode": {
    "name": "ipython",
    "version": 3
   },
   "file_extension": ".py",
   "mimetype": "text/x-python",
   "name": "python",
   "nbconvert_exporter": "python",
   "pygments_lexer": "ipython3",
   "version": "3.6.4"
  }
 },
 "nbformat": 4,
 "nbformat_minor": 2
}
